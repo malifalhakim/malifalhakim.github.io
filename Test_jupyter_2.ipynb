{
  "cells": [
    {
      "cell_type": "markdown",
      "metadata": {
        "id": "view-in-github",
        "colab_type": "text"
      },
      "source": [
        "<a href=\"https://colab.research.google.com/github/malifalhakim/malifalhakim.github.io/blob/main/Test_jupyter_2.ipynb\" target=\"_parent\"><img src=\"https://colab.research.google.com/assets/colab-badge.svg\" alt=\"Open In Colab\"/></a>"
      ]
    },
    {
      "cell_type": "code",
      "execution_count": null,
      "id": "f37caa8e-6247-4882-8650-8cd2126be4af",
      "metadata": {
        "id": "f37caa8e-6247-4882-8650-8cd2126be4af",
        "outputId": "1cf577ee-c784-4346-a69a-8a9d29c0bc1b"
      },
      "outputs": [
        {
          "name": "stdout",
          "output_type": "stream",
          "text": [
            "Halo Dunia\n"
          ]
        }
      ],
      "source": [
        "print(\"Halo Dunia\")"
      ]
    },
    {
      "cell_type": "code",
      "execution_count": null,
      "id": "0531ddd0-f91b-4597-87b1-fd48aaf1a7ed",
      "metadata": {
        "id": "0531ddd0-f91b-4597-87b1-fd48aaf1a7ed",
        "outputId": "e9c33b5e-70d3-4d72-aade-733a3dcb3288"
      },
      "outputs": [
        {
          "name": "stdout",
          "output_type": "stream",
          "text": [
            "Ohhaaa\n"
          ]
        }
      ],
      "source": [
        "print(\"Ohhaaa\")"
      ]
    },
    {
      "cell_type": "code",
      "execution_count": null,
      "id": "b361a8cf-04d4-4c58-9258-4c5730fba601",
      "metadata": {
        "colab": {
          "base_uri": "https://localhost:8080/"
        },
        "id": "b361a8cf-04d4-4c58-9258-4c5730fba601",
        "outputId": "7961dd38-535d-499a-8d9d-8af9b8a7b206"
      },
      "outputs": [
        {
          "name": "stdout",
          "output_type": "stream",
          "text": [
            "Suhu dalam celcius : 27\n"
          ]
        }
      ],
      "source": [
        "celcius = float(input(\"Suhu dalam celcius : \"))"
      ]
    },
    {
      "cell_type": "code",
      "source": [
        "kelvin = celcius + 273\n",
        "print(f\"Suhu dalam kelvin = {kelvin}\")"
      ],
      "metadata": {
        "colab": {
          "base_uri": "https://localhost:8080/"
        },
        "id": "2lBOeFStr7zo",
        "outputId": "be76c407-92bd-4340-e7a1-9c5e9dbcfecd"
      },
      "id": "2lBOeFStr7zo",
      "execution_count": null,
      "outputs": [
        {
          "output_type": "stream",
          "name": "stdout",
          "text": [
            "Suhu dalam kelvin = 300.0\n"
          ]
        }
      ]
    },
    {
      "cell_type": "code",
      "source": [],
      "metadata": {
        "id": "WR5Ywv2wsQvr"
      },
      "id": "WR5Ywv2wsQvr",
      "execution_count": null,
      "outputs": []
    }
  ],
  "metadata": {
    "kernelspec": {
      "display_name": "Python 3 (ipykernel)",
      "language": "python",
      "name": "python3"
    },
    "language_info": {
      "codemirror_mode": {
        "name": "ipython",
        "version": 3
      },
      "file_extension": ".py",
      "mimetype": "text/x-python",
      "name": "python",
      "nbconvert_exporter": "python",
      "pygments_lexer": "ipython3",
      "version": "3.10.7"
    },
    "colab": {
      "provenance": [],
      "collapsed_sections": [],
      "include_colab_link": true
    }
  },
  "nbformat": 4,
  "nbformat_minor": 5
}